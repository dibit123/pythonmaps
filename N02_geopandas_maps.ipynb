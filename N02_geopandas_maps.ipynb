{
 "cells": [
  {
   "cell_type": "markdown",
   "metadata": {},
   "source": [
    "# Geopandas - Mapas"
   ]
  },
  {
   "cell_type": "markdown",
   "metadata": {},
   "source": [
    "GeoPandas es una librería que brinda soporte a datos geográficos usando Pandas. Implementa dos tipos de datos derivados de pandas.Series y pandas.DataFrame (**GeoSeries** y **GeoDataFrame**). Las operaciones geométricas soportadas por Geopandas son cartesianas.\n",
    "\n",
    "Para la realización de este Notebook se requiere la instalación de `geopandas`, `descartes` and `pysal` desde el PROMPT\n",
    "\n",
    "```bash\n",
    "conda install geopandas\n",
    "conda install descartes\n",
    "conda install pysal\n",
    "```"
   ]
  },
  {
   "cell_type": "code",
   "execution_count": 1,
   "metadata": {},
   "outputs": [],
   "source": [
    "%matplotlib inline\n",
    "\n",
    "import ogr  # GDAL/OGR\n",
    "import shapely #figuras, poligonos Polygon utilizar: pip install shapely\n",
    "from shapely.geometry import *\n",
    "import geopandas as gpd\n",
    "import pandas as pd\n",
    "import numpy as np\n",
    "import matplotlib.pyplot as plt\n",
    "import IPython.display as display"
   ]
  },
  {
   "cell_type": "markdown",
   "metadata": {},
   "source": [
    "## GeoSerie"
   ]
  },
  {
   "cell_type": "code",
   "execution_count": 2,
   "metadata": {},
   "outputs": [],
   "source": [
    "p1 = Polygon([(0, 0), (1, 0), (1, 1), (0, 1)])\n",
    "p2 = Polygon([(0, 0), (1, 0), (1, 1)])\n",
    "p3 = Polygon([(2, 0), (3, 0), (3, 1), (2, 1)])\n",
    "g = gpd.GeoSeries([p1, p2, p3])"
   ]
  },
  {
   "cell_type": "code",
   "execution_count": 3,
   "metadata": {},
   "outputs": [
    {
     "data": {
      "text/plain": [
       "<matplotlib.axes._subplots.AxesSubplot at 0x21f2af50e48>"
      ]
     },
     "execution_count": 3,
     "metadata": {},
     "output_type": "execute_result"
    },
    {
     "data": {
      "image/png": "[encoded data removed]",
      "text/plain": [
       "<Figure size 432x288 with 1 Axes>"
      ]
     },
     "metadata": {
      "needs_background": "light"
     },
     "output_type": "display_data"
    }
   ],
   "source": [
    "g.plot(cmap='Set1')"
   ]
  },
  {
   "cell_type": "markdown",
   "metadata": {},
   "source": [
    "Acabamos de definir un elemento de tipo `GeoSeries`. Una `GeoSeries` es un vector donde cada entrada corresponde a un conjunto de figuras que corresponden a una observación. Una entrada puede consistir de solo una figura (Un simple polígono o punto) o de múltiples figuras que se entienden como una observación (Por ejemplo, el conjunto de polígonos que forman las islas de San Andrés y Providencia). \n",
    "\n",
    "`Geopandas` soporta los siguientes tipos de objetos geométricos:\n",
    "\n",
    "- Points / Multi-Points [Documentación](http://toblerity.org/shapely/manual.html#points)\n",
    "- Lines / Multi-Lines [Documentación](http://toblerity.org/shapely/manual.html#linestrings)\n",
    "- Polygons / Multi-Polygons [Documentación](http://toblerity.org/shapely/manual.html#polygons)\n",
    "\n",
    "Cada uno de estos objetos son a su vez objetos de la librería `shapely`. \n",
    "\n",
    "### Atributos\n",
    "\n",
    "`shapely` nos permite ejecutar operaciones como:"
   ]
  },
  {
   "cell_type": "code",
   "execution_count": 4,
   "metadata": {},
   "outputs": [
    {
     "data": {
      "text/plain": [
       "0    1.0\n",
       "1    0.5\n",
       "2    1.0\n",
       "dtype: float64"
      ]
     },
     "execution_count": 4,
     "metadata": {},
     "output_type": "execute_result"
    }
   ],
   "source": [
    "g.area"
   ]
  },
  {
   "cell_type": "code",
   "execution_count": 5,
   "metadata": {},
   "outputs": [
    {
     "data": {
      "text/html": [
       "<div>\n",
       "<style scoped>\n",
       "    .dataframe tbody tr th:only-of-type {\n",
       "        vertical-align: middle;\n",
       "    }\n",
       "\n",
       "    .dataframe tbody tr th {\n",
       "        vertical-align: top;\n",
       "    }\n",
       "\n",
       "    .dataframe thead th {\n",
       "        text-align: right;\n",
       "    }\n",
       "</style>\n",
       "<table border=\"1\" class=\"dataframe\">\n",
       "  <thead>\n",
       "    <tr style=\"text-align: right;\">\n",
       "      <th></th>\n",
       "      <th>minx</th>\n",
       "      <th>miny</th>\n",
       "      <th>maxx</th>\n",
       "      <th>maxy</th>\n",
       "    </tr>\n",
       "  </thead>\n",
       "  <tbody>\n",
       "    <tr>\n",
       "      <td>0</td>\n",
       "      <td>0.0</td>\n",
       "      <td>0.0</td>\n",
       "      <td>1.0</td>\n",
       "      <td>1.0</td>\n",
       "    </tr>\n",
       "    <tr>\n",
       "      <td>1</td>\n",
       "      <td>0.0</td>\n",
       "      <td>0.0</td>\n",
       "      <td>1.0</td>\n",
       "      <td>1.0</td>\n",
       "    </tr>\n",
       "    <tr>\n",
       "      <td>2</td>\n",
       "      <td>2.0</td>\n",
       "      <td>0.0</td>\n",
       "      <td>3.0</td>\n",
       "      <td>1.0</td>\n",
       "    </tr>\n",
       "  </tbody>\n",
       "</table>\n",
       "</div>"
      ],
      "text/plain": [
       "   minx  miny  maxx  maxy\n",
       "0   0.0   0.0   1.0   1.0\n",
       "1   0.0   0.0   1.0   1.0\n",
       "2   2.0   0.0   3.0   1.0"
      ]
     },
     "execution_count": 5,
     "metadata": {},
     "output_type": "execute_result"
    }
   ],
   "source": [
    "g.bounds"
   ]
  },
  {
   "cell_type": "code",
   "execution_count": 6,
   "metadata": {},
   "outputs": [
    {
     "data": {
      "text/plain": [
       "0    Polygon\n",
       "1    Polygon\n",
       "2    Polygon\n",
       "dtype: object"
      ]
     },
     "execution_count": 6,
     "metadata": {},
     "output_type": "execute_result"
    }
   ],
   "source": [
    "g.geom_type"
   ]
  },
  {
   "cell_type": "markdown",
   "metadata": {},
   "source": [
    "### Métodos básicos"
   ]
  },
  {
   "cell_type": "code",
   "execution_count": 7,
   "metadata": {},
   "outputs": [
    {
     "name": "stdout",
     "output_type": "stream",
     "text": [
      "1.0\n"
     ]
    }
   ],
   "source": [
    "# Distancia entre elementos\n",
    "\n",
    "print(p1.distance(p3))"
   ]
  },
  {
   "cell_type": "code",
   "execution_count": 8,
   "metadata": {},
   "outputs": [
    {
     "name": "stdout",
     "output_type": "stream",
     "text": [
      "0    1.0\n",
      "1    1.0\n",
      "2    0.0\n",
      "dtype: float64\n"
     ]
    }
   ],
   "source": [
    "print(g.distance(p3)) #distancia del centro de cada poligono a p3"
   ]
  },
  {
   "cell_type": "code",
   "execution_count": 9,
   "metadata": {},
   "outputs": [
    {
     "data": {
      "text/plain": [
       "0    POINT (0.50000 0.50000)\n",
       "1    POINT (0.66667 0.33333)\n",
       "2    POINT (2.50000 0.50000)\n",
       "dtype: geometry"
      ]
     },
     "execution_count": 9,
     "metadata": {},
     "output_type": "execute_result"
    }
   ],
   "source": [
    "g.centroid"
   ]
  },
  {
   "cell_type": "code",
   "execution_count": 10,
   "metadata": {},
   "outputs": [
    {
     "data": {
      "text/plain": [
       "0    POINT (0.50000 0.50000)\n",
       "1    POINT (0.75000 0.50000)\n",
       "2    POINT (2.50000 0.50000)\n",
       "dtype: geometry"
      ]
     },
     "execution_count": 10,
     "metadata": {},
     "output_type": "execute_result"
    }
   ],
   "source": [
    "g.representative_point() \n",
    "# A diferencia de centroid, regresa un punto representativo que está garantizado, \n",
    "# se encuentra dentro de la geometría"
   ]
  },
  {
   "cell_type": "code",
   "execution_count": 11,
   "metadata": {},
   "outputs": [
    {
     "data": {
      "text/plain": [
       "<matplotlib.axes._subplots.AxesSubplot at 0x21f2b2eea48>"
      ]
     },
     "execution_count": 11,
     "metadata": {},
     "output_type": "execute_result"
    },
    {
     "data": {
      "image/png": "[encoded data removed]",
      "text/plain": [
       "<Figure size 432x288 with 1 Axes>"
      ]
     },
     "metadata": {
      "needs_background": "light"
     },
     "output_type": "display_data"
    }
   ],
   "source": [
    "g.centroid.plot()"
   ]
  },
  {
   "cell_type": "markdown",
   "metadata": {},
   "source": [
    "### Pruebas de relación"
   ]
  },
  {
   "cell_type": "code",
   "execution_count": 12,
   "metadata": {},
   "outputs": [
    {
     "data": {
      "text/plain": [
       "0    False\n",
       "1    False\n",
       "2     True\n",
       "dtype: bool"
      ]
     },
     "execution_count": 12,
     "metadata": {},
     "output_type": "execute_result"
    }
   ],
   "source": [
    "# Compara si la figura de un objeto geométrico es casi igual\n",
    "g.geom_almost_equals(p3)"
   ]
  },
  {
   "cell_type": "code",
   "execution_count": 13,
   "metadata": {},
   "outputs": [
    {
     "data": {
      "text/plain": [
       "True"
      ]
     },
     "execution_count": 13,
     "metadata": {},
     "output_type": "execute_result"
    }
   ],
   "source": [
    "# Regresa verdadero si una figura está contenida en otra\n",
    "p1.contains(p2)"
   ]
  },
  {
   "cell_type": "code",
   "execution_count": 14,
   "metadata": {},
   "outputs": [
    {
     "data": {
      "text/plain": [
       "False"
      ]
     },
     "execution_count": 14,
     "metadata": {},
     "output_type": "execute_result"
    }
   ],
   "source": [
    "p2.contains(p1)"
   ]
  },
  {
   "cell_type": "code",
   "execution_count": 15,
   "metadata": {},
   "outputs": [
    {
     "data": {
      "text/plain": [
       "True"
      ]
     },
     "execution_count": 15,
     "metadata": {},
     "output_type": "execute_result"
    }
   ],
   "source": [
    "# Regresa verdadero si una figura está intersectada con otra\n",
    "p1.intersects(p2)"
   ]
  },
  {
   "cell_type": "markdown",
   "metadata": {},
   "source": [
    "## GeoDataFrame"
   ]
  },
  {
   "cell_type": "markdown",
   "metadata": {},
   "source": [
    "Un `GeoDataFrame` es una estructura de datos tabular que contiene una columna de tipo `GeoSeries`. \n",
    "\n",
    "Los `GeoDataFrames` siempre contienen una columna que se denomina geometría (`geometry`). Cuando una operación espacial es aplicada al `GeoDataFrame`, este comando siempre actuará sobre la columna `geometry`. La columna `geometry` podría tener un nombre diferente, el cual puede ser consultado usando `gdf.geometry.name`.\n",
    "\n",
    "A continuación se presenta un ejemplo usando `GeoDataFrame`:"
   ]
  },
  {
   "cell_type": "code",
   "execution_count": 16,
   "metadata": {},
   "outputs": [
    {
     "data": {
      "text/html": [
       "<div>\n",
       "<style scoped>\n",
       "    .dataframe tbody tr th:only-of-type {\n",
       "        vertical-align: middle;\n",
       "    }\n",
       "\n",
       "    .dataframe tbody tr th {\n",
       "        vertical-align: top;\n",
       "    }\n",
       "\n",
       "    .dataframe thead th {\n",
       "        text-align: right;\n",
       "    }\n",
       "</style>\n",
       "<table border=\"1\" class=\"dataframe\">\n",
       "  <thead>\n",
       "    <tr style=\"text-align: right;\">\n",
       "      <th></th>\n",
       "      <th>pop_est</th>\n",
       "      <th>continent</th>\n",
       "      <th>name</th>\n",
       "      <th>iso_a3</th>\n",
       "      <th>gdp_md_est</th>\n",
       "      <th>geometry</th>\n",
       "    </tr>\n",
       "  </thead>\n",
       "  <tbody>\n",
       "    <tr>\n",
       "      <td>0</td>\n",
       "      <td>920938</td>\n",
       "      <td>Oceania</td>\n",
       "      <td>Fiji</td>\n",
       "      <td>FJI</td>\n",
       "      <td>8374.0</td>\n",
       "      <td>MULTIPOLYGON (((180.00000 -16.06713, 180.00000...</td>\n",
       "    </tr>\n",
       "    <tr>\n",
       "      <td>1</td>\n",
       "      <td>53950935</td>\n",
       "      <td>Africa</td>\n",
       "      <td>Tanzania</td>\n",
       "      <td>TZA</td>\n",
       "      <td>150600.0</td>\n",
       "      <td>POLYGON ((33.90371 -0.95000, 34.07262 -1.05982...</td>\n",
       "    </tr>\n",
       "    <tr>\n",
       "      <td>2</td>\n",
       "      <td>603253</td>\n",
       "      <td>Africa</td>\n",
       "      <td>W. Sahara</td>\n",
       "      <td>ESH</td>\n",
       "      <td>906.5</td>\n",
       "      <td>POLYGON ((-8.66559 27.65643, -8.66512 27.58948...</td>\n",
       "    </tr>\n",
       "    <tr>\n",
       "      <td>3</td>\n",
       "      <td>35623680</td>\n",
       "      <td>North America</td>\n",
       "      <td>Canada</td>\n",
       "      <td>CAN</td>\n",
       "      <td>1674000.0</td>\n",
       "      <td>MULTIPOLYGON (((-122.84000 49.00000, -122.9742...</td>\n",
       "    </tr>\n",
       "    <tr>\n",
       "      <td>4</td>\n",
       "      <td>326625791</td>\n",
       "      <td>North America</td>\n",
       "      <td>United States of America</td>\n",
       "      <td>USA</td>\n",
       "      <td>18560000.0</td>\n",
       "      <td>MULTIPOLYGON (((-122.84000 49.00000, -120.0000...</td>\n",
       "    </tr>\n",
       "  </tbody>\n",
       "</table>\n",
       "</div>"
      ],
      "text/plain": [
       "     pop_est      continent                      name iso_a3  gdp_md_est  \\\n",
       "0     920938        Oceania                      Fiji    FJI      8374.0   \n",
       "1   53950935         Africa                  Tanzania    TZA    150600.0   \n",
       "2     603253         Africa                 W. Sahara    ESH       906.5   \n",
       "3   35623680  North America                    Canada    CAN   1674000.0   \n",
       "4  326625791  North America  United States of America    USA  18560000.0   \n",
       "\n",
       "                                            geometry  \n",
       "0  MULTIPOLYGON (((180.00000 -16.06713, 180.00000...  \n",
       "1  POLYGON ((33.90371 -0.95000, 34.07262 -1.05982...  \n",
       "2  POLYGON ((-8.66559 27.65643, -8.66512 27.58948...  \n",
       "3  MULTIPOLYGON (((-122.84000 49.00000, -122.9742...  \n",
       "4  MULTIPOLYGON (((-122.84000 49.00000, -120.0000...  "
      ]
     },
     "execution_count": 16,
     "metadata": {},
     "output_type": "execute_result"
    }
   ],
   "source": [
    "world = gpd.read_file(gpd.datasets.get_path('naturalearth_lowres'))\n",
    "world.head()"
   ]
  },
  {
   "cell_type": "code",
   "execution_count": 17,
   "metadata": {},
   "outputs": [
    {
     "data": {
      "text/plain": [
       "['naturalearth_cities', 'naturalearth_lowres', 'nybb']"
      ]
     },
     "execution_count": 17,
     "metadata": {},
     "output_type": "execute_result"
    }
   ],
   "source": [
    "gpd.datasets.available"
   ]
  },
  {
   "cell_type": "code",
   "execution_count": 18,
   "metadata": {},
   "outputs": [
    {
     "data": {
      "text/plain": [
       "<matplotlib.axes._subplots.AxesSubplot at 0x21f2b390cc8>"
      ]
     },
     "execution_count": 18,
     "metadata": {},
     "output_type": "execute_result"
    },
    {
     "data": {
      "image/png": "[encoded data removed]",
      "text/plain": [
       "<Figure size 432x288 with 1 Axes>"
      ]
     },
     "metadata": {
      "needs_background": "light"
     },
     "output_type": "display_data"
    }
   ],
   "source": [
    "world.plot()"
   ]
  },
  {
   "cell_type": "code",
   "execution_count": 19,
   "metadata": {},
   "outputs": [
    {
     "data": {
      "text/plain": [
       "'geometry'"
      ]
     },
     "execution_count": 19,
     "metadata": {},
     "output_type": "execute_result"
    }
   ],
   "source": [
    "world.geometry.name"
   ]
  },
  {
   "cell_type": "code",
   "execution_count": 20,
   "metadata": {},
   "outputs": [
    {
     "name": "stdout",
     "output_type": "stream",
     "text": [
      "centroid_column\n"
     ]
    }
   ],
   "source": [
    "world['centroid_column'] = world.centroid # Nueva columna con el centroide de cada país\n",
    "world = world.set_geometry('centroid_column') # Aquí cambiamos la columna geometry a la columna centroid_column\n",
    "print(world.geometry.name) "
   ]
  },
  {
   "cell_type": "code",
   "execution_count": 21,
   "metadata": {},
   "outputs": [
    {
     "data": {
      "text/plain": [
       "<matplotlib.axes._subplots.AxesSubplot at 0x21f2b440cc8>"
      ]
     },
     "execution_count": 21,
     "metadata": {},
     "output_type": "execute_result"
    },
    {
     "data": {
      "image/png": "[encoded data removed]",
      "text/plain": [
       "<Figure size 432x288 with 1 Axes>"
      ]
     },
     "metadata": {
      "needs_background": "light"
     },
     "output_type": "display_data"
    }
   ],
   "source": [
    "world.plot()"
   ]
  },
  {
   "cell_type": "markdown",
   "metadata": {},
   "source": [
    "# Cargando datos"
   ]
  },
  {
   "cell_type": "markdown",
   "metadata": {},
   "source": [
    "`gpd.read_file` permite la carga de conjuntos de datos a través de la libería `fiona`. `fiona` soporta una gran cantidad de formatos, entre ellos GeoJSON. `gpd.read_file` regresa automáticamente un `GeoDataFrame`."
   ]
  },
  {
   "cell_type": "code",
   "execution_count": 22,
   "metadata": {},
   "outputs": [],
   "source": [
    "df_bogota = gpd.read_file('data/bogota_cadastral.json')"
   ]
  },
  {
   "cell_type": "code",
   "execution_count": 23,
   "metadata": {},
   "outputs": [
    {
     "data": {
      "text/html": [
       "<div>\n",
       "<style scoped>\n",
       "    .dataframe tbody tr th:only-of-type {\n",
       "        vertical-align: middle;\n",
       "    }\n",
       "\n",
       "    .dataframe tbody tr th {\n",
       "        vertical-align: top;\n",
       "    }\n",
       "\n",
       "    .dataframe thead th {\n",
       "        text-align: right;\n",
       "    }\n",
       "</style>\n",
       "<table border=\"1\" class=\"dataframe\">\n",
       "  <thead>\n",
       "    <tr style=\"text-align: right;\">\n",
       "      <th></th>\n",
       "      <th>cartodb_id</th>\n",
       "      <th>scacodigo</th>\n",
       "      <th>scatipo</th>\n",
       "      <th>scanombre</th>\n",
       "      <th>shape_leng</th>\n",
       "      <th>shape_area</th>\n",
       "      <th>MOVEMENT_ID</th>\n",
       "      <th>DISPLAY_NAME</th>\n",
       "      <th>geometry</th>\n",
       "    </tr>\n",
       "  </thead>\n",
       "  <tbody>\n",
       "    <tr>\n",
       "      <td>0</td>\n",
       "      <td>12</td>\n",
       "      <td>004575</td>\n",
       "      <td>0</td>\n",
       "      <td>LOS LAURELES</td>\n",
       "      <td>0.027741</td>\n",
       "      <td>0.000037</td>\n",
       "      <td>1</td>\n",
       "      <td>LOS LAURELES, 004575 (1)</td>\n",
       "      <td>MULTIPOLYGON (((-74.20029 4.61725, -74.20028 4...</td>\n",
       "    </tr>\n",
       "    <tr>\n",
       "      <td>1</td>\n",
       "      <td>26</td>\n",
       "      <td>006524</td>\n",
       "      <td>0</td>\n",
       "      <td>LA MAGDALENA</td>\n",
       "      <td>0.053219</td>\n",
       "      <td>0.000089</td>\n",
       "      <td>2</td>\n",
       "      <td>LA MAGDALENA, 006524 (2)</td>\n",
       "      <td>MULTIPOLYGON (((-74.16276 4.66008, -74.16272 4...</td>\n",
       "    </tr>\n",
       "    <tr>\n",
       "      <td>2</td>\n",
       "      <td>45</td>\n",
       "      <td>102502</td>\n",
       "      <td>1</td>\n",
       "      <td>EL UVAL RURAL</td>\n",
       "      <td>0.171333</td>\n",
       "      <td>0.000708</td>\n",
       "      <td>3</td>\n",
       "      <td>EL UVAL RURAL, 102502 (3)</td>\n",
       "      <td>MULTIPOLYGON (((-74.11931 4.49017, -74.11933 4...</td>\n",
       "    </tr>\n",
       "    <tr>\n",
       "      <td>3</td>\n",
       "      <td>74</td>\n",
       "      <td>005501</td>\n",
       "      <td>0</td>\n",
       "      <td>PALO BLANCO</td>\n",
       "      <td>0.017187</td>\n",
       "      <td>0.000018</td>\n",
       "      <td>4</td>\n",
       "      <td>PALO BLANCO, 005501 (4)</td>\n",
       "      <td>MULTIPOLYGON (((-74.09353 4.68101, -74.09481 4...</td>\n",
       "    </tr>\n",
       "    <tr>\n",
       "      <td>4</td>\n",
       "      <td>77</td>\n",
       "      <td>009240</td>\n",
       "      <td>0</td>\n",
       "      <td>POTRERILLO</td>\n",
       "      <td>0.010527</td>\n",
       "      <td>0.000007</td>\n",
       "      <td>5</td>\n",
       "      <td>POTRERILLO, 009240 (5)</td>\n",
       "      <td>MULTIPOLYGON (((-74.09744 4.73531, -74.09620 4...</td>\n",
       "    </tr>\n",
       "  </tbody>\n",
       "</table>\n",
       "</div>"
      ],
      "text/plain": [
       "   cartodb_id scacodigo  scatipo      scanombre  shape_leng  shape_area  \\\n",
       "0          12    004575        0   LOS LAURELES    0.027741    0.000037   \n",
       "1          26    006524        0   LA MAGDALENA    0.053219    0.000089   \n",
       "2          45    102502        1  EL UVAL RURAL    0.171333    0.000708   \n",
       "3          74    005501        0    PALO BLANCO    0.017187    0.000018   \n",
       "4          77    009240        0     POTRERILLO    0.010527    0.000007   \n",
       "\n",
       "  MOVEMENT_ID               DISPLAY_NAME  \\\n",
       "0           1   LOS LAURELES, 004575 (1)   \n",
       "1           2   LA MAGDALENA, 006524 (2)   \n",
       "2           3  EL UVAL RURAL, 102502 (3)   \n",
       "3           4    PALO BLANCO, 005501 (4)   \n",
       "4           5     POTRERILLO, 009240 (5)   \n",
       "\n",
       "                                            geometry  \n",
       "0  MULTIPOLYGON (((-74.20029 4.61725, -74.20028 4...  \n",
       "1  MULTIPOLYGON (((-74.16276 4.66008, -74.16272 4...  \n",
       "2  MULTIPOLYGON (((-74.11931 4.49017, -74.11933 4...  \n",
       "3  MULTIPOLYGON (((-74.09353 4.68101, -74.09481 4...  \n",
       "4  MULTIPOLYGON (((-74.09744 4.73531, -74.09620 4...  "
      ]
     },
     "execution_count": 23,
     "metadata": {},
     "output_type": "execute_result"
    }
   ],
   "source": [
    "df_bogota.head()"
   ]
  },
  {
   "cell_type": "markdown",
   "metadata": {},
   "source": [
    "`GeoPandas` permite la indexación y selección de datos de la misma forma que pandas, a través de `.loc` e `.iloc`. Por ejemplo si queremos filtrar aquellas áreas mayores a 0.0006, lo podemos hacer de la siguiente manera:"
   ]
  },
  {
   "cell_type": "code",
   "execution_count": 24,
   "metadata": {},
   "outputs": [
    {
     "name": "stdout",
     "output_type": "stream",
     "text": [
      "cartodb_id      42\n",
      "scacodigo       42\n",
      "scatipo         42\n",
      "scanombre       42\n",
      "shape_leng      42\n",
      "shape_area      42\n",
      "MOVEMENT_ID     42\n",
      "DISPLAY_NAME    42\n",
      "geometry        42\n",
      "dtype: int64\n",
      "cartodb_id      1160\n",
      "scacodigo       1160\n",
      "scatipo         1160\n",
      "scanombre       1160\n",
      "shape_leng      1160\n",
      "shape_area      1160\n",
      "MOVEMENT_ID     1160\n",
      "DISPLAY_NAME    1160\n",
      "geometry        1160\n",
      "dtype: int64\n"
     ]
    }
   ],
   "source": [
    "df_bogota_large = df_bogota.loc[df_bogota.shape_area > 0.0006]\n",
    "\n",
    "print(df_bogota_large.count())\n",
    "print(df_bogota.count())"
   ]
  },
  {
   "cell_type": "markdown",
   "metadata": {},
   "source": [
    "Adicionalmente nos permite hacer una selección de índices basado en coordenadas (`.cx`)"
   ]
  },
  {
   "cell_type": "code",
   "execution_count": 25,
   "metadata": {},
   "outputs": [
    {
     "data": {
      "text/plain": [
       "<matplotlib.axes._subplots.AxesSubplot at 0x21f2b402688>"
      ]
     },
     "execution_count": 25,
     "metadata": {},
     "output_type": "execute_result"
    },
    {
     "data": {
      "image/png": "[encoded data removed]",
      "text/plain": [
       "<Figure size 432x288 with 1 Axes>"
      ]
     },
     "metadata": {
      "needs_background": "light"
     },
     "output_type": "display_data"
    }
   ],
   "source": [
    "world = gpd.read_file(gpd.datasets.get_path('naturalearth_lowres'))\n",
    "\n",
    "world.plot()"
   ]
  },
  {
   "cell_type": "code",
   "execution_count": 26,
   "metadata": {},
   "outputs": [
    {
     "data": {
      "image/png": "[encoded data removed]",
      "text/plain": [
       "<Figure size 720x216 with 1 Axes>"
      ]
     },
     "metadata": {
      "needs_background": "light"
     },
     "output_type": "display_data"
    }
   ],
   "source": [
    "hemisferio_sur = world.cx[:, :10]\n",
    "\n",
    "hemisferio_sur.plot(figsize=(10, 3));"
   ]
  },
  {
   "cell_type": "markdown",
   "metadata": {},
   "source": [
    "# Generando mapas"
   ]
  },
  {
   "cell_type": "code",
   "execution_count": 27,
   "metadata": {},
   "outputs": [],
   "source": [
    "world = gpd.read_file(gpd.datasets.get_path('naturalearth_lowres'))"
   ]
  },
  {
   "cell_type": "markdown",
   "metadata": {},
   "source": [
    "`GeoPandas` pinta los mapas usando matplotlib como soporte. Por lo tanto cualquier atributo que se modifique en pyplot, tambien se puede modificar en `.plot`. Por ejemplo:"
   ]
  },
  {
   "cell_type": "code",
   "execution_count": 28,
   "metadata": {},
   "outputs": [
    {
     "data": {
      "text/plain": [
       "(-197.99999999999997, 198.00000000000006, -98.6822565, 92.32738650000002)"
      ]
     },
     "execution_count": 28,
     "metadata": {},
     "output_type": "execute_result"
    },
    {
     "data": {
      "image/png": "[encoded data removed]",
      "text/plain": [
       "<Figure size 1080x720 with 1 Axes>"
      ]
     },
     "metadata": {
      "needs_background": "light"
     },
     "output_type": "display_data"
    }
   ],
   "source": [
    "f, ax = plt.subplots(1, figsize=(15, 10))\n",
    "ax.set_title(u'El Mundo')\n",
    "\n",
    "# Carga la configuración que hayamos generado en el elemento ax\n",
    "world.plot(ax=ax)\n",
    "\n",
    "# Eliminamos los ejes\n",
    "ax.set_axis_off()\n",
    "plt.axis('equal')"
   ]
  },
  {
   "cell_type": "markdown",
   "metadata": {},
   "source": [
    "### Mapas coropléticos\n",
    "\n",
    "Para elaborar un mapa cloroplético, basta con indicar la columna sobre la cual se van a clasificar los datos:"
   ]
  },
  {
   "cell_type": "code",
   "execution_count": 29,
   "metadata": {},
   "outputs": [
    {
     "data": {
      "text/html": [
       "<div>\n",
       "<style scoped>\n",
       "    .dataframe tbody tr th:only-of-type {\n",
       "        vertical-align: middle;\n",
       "    }\n",
       "\n",
       "    .dataframe tbody tr th {\n",
       "        vertical-align: top;\n",
       "    }\n",
       "\n",
       "    .dataframe thead th {\n",
       "        text-align: right;\n",
       "    }\n",
       "</style>\n",
       "<table border=\"1\" class=\"dataframe\">\n",
       "  <thead>\n",
       "    <tr style=\"text-align: right;\">\n",
       "      <th></th>\n",
       "      <th>pop_est</th>\n",
       "      <th>continent</th>\n",
       "      <th>name</th>\n",
       "      <th>iso_a3</th>\n",
       "      <th>gdp_md_est</th>\n",
       "      <th>geometry</th>\n",
       "    </tr>\n",
       "  </thead>\n",
       "  <tbody>\n",
       "    <tr>\n",
       "      <td>0</td>\n",
       "      <td>920938</td>\n",
       "      <td>Oceania</td>\n",
       "      <td>Fiji</td>\n",
       "      <td>FJI</td>\n",
       "      <td>8374.0</td>\n",
       "      <td>MULTIPOLYGON (((180.00000 -16.06713, 180.00000...</td>\n",
       "    </tr>\n",
       "    <tr>\n",
       "      <td>1</td>\n",
       "      <td>53950935</td>\n",
       "      <td>Africa</td>\n",
       "      <td>Tanzania</td>\n",
       "      <td>TZA</td>\n",
       "      <td>150600.0</td>\n",
       "      <td>POLYGON ((33.90371 -0.95000, 34.07262 -1.05982...</td>\n",
       "    </tr>\n",
       "    <tr>\n",
       "      <td>2</td>\n",
       "      <td>603253</td>\n",
       "      <td>Africa</td>\n",
       "      <td>W. Sahara</td>\n",
       "      <td>ESH</td>\n",
       "      <td>906.5</td>\n",
       "      <td>POLYGON ((-8.66559 27.65643, -8.66512 27.58948...</td>\n",
       "    </tr>\n",
       "    <tr>\n",
       "      <td>3</td>\n",
       "      <td>35623680</td>\n",
       "      <td>North America</td>\n",
       "      <td>Canada</td>\n",
       "      <td>CAN</td>\n",
       "      <td>1674000.0</td>\n",
       "      <td>MULTIPOLYGON (((-122.84000 49.00000, -122.9742...</td>\n",
       "    </tr>\n",
       "    <tr>\n",
       "      <td>4</td>\n",
       "      <td>326625791</td>\n",
       "      <td>North America</td>\n",
       "      <td>United States of America</td>\n",
       "      <td>USA</td>\n",
       "      <td>18560000.0</td>\n",
       "      <td>MULTIPOLYGON (((-122.84000 49.00000, -120.0000...</td>\n",
       "    </tr>\n",
       "  </tbody>\n",
       "</table>\n",
       "</div>"
      ],
      "text/plain": [
       "     pop_est      continent                      name iso_a3  gdp_md_est  \\\n",
       "0     920938        Oceania                      Fiji    FJI      8374.0   \n",
       "1   53950935         Africa                  Tanzania    TZA    150600.0   \n",
       "2     603253         Africa                 W. Sahara    ESH       906.5   \n",
       "3   35623680  North America                    Canada    CAN   1674000.0   \n",
       "4  326625791  North America  United States of America    USA  18560000.0   \n",
       "\n",
       "                                            geometry  \n",
       "0  MULTIPOLYGON (((180.00000 -16.06713, 180.00000...  \n",
       "1  POLYGON ((33.90371 -0.95000, 34.07262 -1.05982...  \n",
       "2  POLYGON ((-8.66559 27.65643, -8.66512 27.58948...  \n",
       "3  MULTIPOLYGON (((-122.84000 49.00000, -122.9742...  \n",
       "4  MULTIPOLYGON (((-122.84000 49.00000, -120.0000...  "
      ]
     },
     "execution_count": 29,
     "metadata": {},
     "output_type": "execute_result"
    }
   ],
   "source": [
    "world.head()"
   ]
  },
  {
   "cell_type": "code",
   "execution_count": 30,
   "metadata": {},
   "outputs": [
    {
     "data": {
      "text/plain": [
       "<matplotlib.axes._subplots.AxesSubplot at 0x21f2c6d0ac8>"
      ]
     },
     "execution_count": 30,
     "metadata": {},
     "output_type": "execute_result"
    },
    {
     "data": {
      "image/png": "[encoded data removed]",
      "text/plain": [
       "<Figure size 432x288 with 1 Axes>"
      ]
     },
     "metadata": {
      "needs_background": "light"
     },
     "output_type": "display_data"
    }
   ],
   "source": [
    "world = world[(world['pop_est']>0) & (world['name']!=\"Antarctica\")] # Eliminamos Antarctica\n",
    "world['gdp_per_cap'] = world['gdp_md_est'] / world['pop_est'] # Creamos una nueva columna: PIB per cápita\n",
    "#world['gdp_per_cap'] = world.gdp_md_est / world.pop_est # Creamos una nueva columna: PIB per cápita\n",
    "\n",
    "world.plot(column='gdp_per_cap', cmap='OrRd', scheme='quantiles') # Creamos un mapa coroplético sobre gdp_per_cap"
   ]
  },
  {
   "cell_type": "markdown",
   "metadata": {},
   "source": [
    "# Agregación usando `dissolve`"
   ]
  },
  {
   "cell_type": "markdown",
   "metadata": {},
   "source": [
    "Es común que los datos espaciales que estemos manejando tengan un nivel de granularidad mayor del que necesitamos. Por ejemplo podemos tener información de los estratos a nivel de manzana en una ciudad, pero estamos interesados en estudiar patrones a nivel de UPZ, barrios o localidades. En caso de trabajar con datos no espaciales, la función `groupby` se ajusta a las necesidades mencionadas. Sin embargo, `GeoPandas` provee una función que agrega características geométricas a través de la función `dissolve`.\n",
    "\n",
    "`dissolve` trabaja así: \n",
    "1. Si dos polígonos conjuntos comparten un grupo (Por ejemplo estrato), ambos son fusionados en un solo polígono o característica geométrica.\n",
    "2. Los datos relacionados a cada polígono son agregados usando la función `groupby.aggregate()`\n",
    "3. Combina tanto (1) como (2)\n",
    "\n",
    "En el siguiente ejemplo combinaremos países para formar continentes. Y luego visualizaremos la información de población total, usando un mapa cloroplético:"
   ]
  },
  {
   "cell_type": "code",
   "execution_count": 31,
   "metadata": {},
   "outputs": [
    {
     "data": {
      "text/html": [
       "<div>\n",
       "<style scoped>\n",
       "    .dataframe tbody tr th:only-of-type {\n",
       "        vertical-align: middle;\n",
       "    }\n",
       "\n",
       "    .dataframe tbody tr th {\n",
       "        vertical-align: top;\n",
       "    }\n",
       "\n",
       "    .dataframe thead th {\n",
       "        text-align: right;\n",
       "    }\n",
       "</style>\n",
       "<table border=\"1\" class=\"dataframe\">\n",
       "  <thead>\n",
       "    <tr style=\"text-align: right;\">\n",
       "      <th></th>\n",
       "      <th>continent</th>\n",
       "      <th>geometry</th>\n",
       "      <th>pop_est</th>\n",
       "    </tr>\n",
       "  </thead>\n",
       "  <tbody>\n",
       "    <tr>\n",
       "      <td>0</td>\n",
       "      <td>Oceania</td>\n",
       "      <td>MULTIPOLYGON (((180.00000 -16.06713, 180.00000...</td>\n",
       "      <td>920938</td>\n",
       "    </tr>\n",
       "    <tr>\n",
       "      <td>1</td>\n",
       "      <td>Africa</td>\n",
       "      <td>POLYGON ((33.90371 -0.95000, 34.07262 -1.05982...</td>\n",
       "      <td>53950935</td>\n",
       "    </tr>\n",
       "    <tr>\n",
       "      <td>2</td>\n",
       "      <td>Africa</td>\n",
       "      <td>POLYGON ((-8.66559 27.65643, -8.66512 27.58948...</td>\n",
       "      <td>603253</td>\n",
       "    </tr>\n",
       "    <tr>\n",
       "      <td>3</td>\n",
       "      <td>North America</td>\n",
       "      <td>MULTIPOLYGON (((-122.84000 49.00000, -122.9742...</td>\n",
       "      <td>35623680</td>\n",
       "    </tr>\n",
       "    <tr>\n",
       "      <td>4</td>\n",
       "      <td>North America</td>\n",
       "      <td>MULTIPOLYGON (((-122.84000 49.00000, -120.0000...</td>\n",
       "      <td>326625791</td>\n",
       "    </tr>\n",
       "    <tr>\n",
       "      <td>5</td>\n",
       "      <td>Asia</td>\n",
       "      <td>POLYGON ((87.35997 49.21498, 86.59878 48.54918...</td>\n",
       "      <td>18556698</td>\n",
       "    </tr>\n",
       "    <tr>\n",
       "      <td>6</td>\n",
       "      <td>Asia</td>\n",
       "      <td>POLYGON ((55.96819 41.30864, 55.92892 44.99586...</td>\n",
       "      <td>29748859</td>\n",
       "    </tr>\n",
       "    <tr>\n",
       "      <td>7</td>\n",
       "      <td>Oceania</td>\n",
       "      <td>MULTIPOLYGON (((141.00021 -2.60015, 142.73525 ...</td>\n",
       "      <td>6909701</td>\n",
       "    </tr>\n",
       "    <tr>\n",
       "      <td>8</td>\n",
       "      <td>Asia</td>\n",
       "      <td>MULTIPOLYGON (((141.00021 -2.60015, 141.01706 ...</td>\n",
       "      <td>260580739</td>\n",
       "    </tr>\n",
       "    <tr>\n",
       "      <td>9</td>\n",
       "      <td>South America</td>\n",
       "      <td>MULTIPOLYGON (((-68.63401 -52.63637, -68.25000...</td>\n",
       "      <td>44293293</td>\n",
       "    </tr>\n",
       "  </tbody>\n",
       "</table>\n",
       "</div>"
      ],
      "text/plain": [
       "       continent                                           geometry    pop_est\n",
       "0        Oceania  MULTIPOLYGON (((180.00000 -16.06713, 180.00000...     920938\n",
       "1         Africa  POLYGON ((33.90371 -0.95000, 34.07262 -1.05982...   53950935\n",
       "2         Africa  POLYGON ((-8.66559 27.65643, -8.66512 27.58948...     603253\n",
       "3  North America  MULTIPOLYGON (((-122.84000 49.00000, -122.9742...   35623680\n",
       "4  North America  MULTIPOLYGON (((-122.84000 49.00000, -120.0000...  326625791\n",
       "5           Asia  POLYGON ((87.35997 49.21498, 86.59878 48.54918...   18556698\n",
       "6           Asia  POLYGON ((55.96819 41.30864, 55.92892 44.99586...   29748859\n",
       "7        Oceania  MULTIPOLYGON (((141.00021 -2.60015, 142.73525 ...    6909701\n",
       "8           Asia  MULTIPOLYGON (((141.00021 -2.60015, 141.01706 ...  260580739\n",
       "9  South America  MULTIPOLYGON (((-68.63401 -52.63637, -68.25000...   44293293"
      ]
     },
     "execution_count": 31,
     "metadata": {},
     "output_type": "execute_result"
    }
   ],
   "source": [
    "world = gpd.read_file(gpd.datasets.get_path('naturalearth_lowres'))\n",
    "world = world[['continent', 'geometry', 'pop_est']]\n",
    "world.head(10)"
   ]
  },
  {
   "cell_type": "code",
   "execution_count": 32,
   "metadata": {},
   "outputs": [
    {
     "data": {
      "image/png": "[encoded data removed]",
      "text/plain": [
       "<Figure size 432x288 with 1 Axes>"
      ]
     },
     "metadata": {
      "needs_background": "light"
     },
     "output_type": "display_data"
    }
   ],
   "source": [
    "continents = world.dissolve(by='continent', aggfunc='sum') #Escogemos la columna de agregación y la operación de agregación\n",
    "\n",
    "continents.plot(column = 'pop_est', scheme='quantiles', cmap='YlOrRd');"
   ]
  },
  {
   "cell_type": "code",
   "execution_count": 33,
   "metadata": {},
   "outputs": [
    {
     "data": {
      "text/html": [
       "<div>\n",
       "<style scoped>\n",
       "    .dataframe tbody tr th:only-of-type {\n",
       "        vertical-align: middle;\n",
       "    }\n",
       "\n",
       "    .dataframe tbody tr th {\n",
       "        vertical-align: top;\n",
       "    }\n",
       "\n",
       "    .dataframe thead th {\n",
       "        text-align: right;\n",
       "    }\n",
       "</style>\n",
       "<table border=\"1\" class=\"dataframe\">\n",
       "  <thead>\n",
       "    <tr style=\"text-align: right;\">\n",
       "      <th></th>\n",
       "      <th>geometry</th>\n",
       "      <th>pop_est</th>\n",
       "    </tr>\n",
       "    <tr>\n",
       "      <th>continent</th>\n",
       "      <th></th>\n",
       "      <th></th>\n",
       "    </tr>\n",
       "  </thead>\n",
       "  <tbody>\n",
       "    <tr>\n",
       "      <td>Africa</td>\n",
       "      <td>MULTIPOLYGON (((49.544 -12.470, 49.809 -12.895...</td>\n",
       "      <td>1219176238</td>\n",
       "    </tr>\n",
       "    <tr>\n",
       "      <td>Antarctica</td>\n",
       "      <td>MULTIPOLYGON (((-163.713 -78.596, -163.713 -78...</td>\n",
       "      <td>4050</td>\n",
       "    </tr>\n",
       "    <tr>\n",
       "      <td>Asia</td>\n",
       "      <td>MULTIPOLYGON (((120.295 -10.259, 118.968 -9.55...</td>\n",
       "      <td>4389144868</td>\n",
       "    </tr>\n",
       "    <tr>\n",
       "      <td>Europe</td>\n",
       "      <td>MULTIPOLYGON (((-51.658 4.156, -52.249 3.241, ...</td>\n",
       "      <td>746398461</td>\n",
       "    </tr>\n",
       "    <tr>\n",
       "      <td>North America</td>\n",
       "      <td>MULTIPOLYGON (((-61.680 10.760, -61.105 10.890...</td>\n",
       "      <td>573042112</td>\n",
       "    </tr>\n",
       "    <tr>\n",
       "      <td>Oceania</td>\n",
       "      <td>MULTIPOLYGON (((169.668 -43.555, 170.525 -43.0...</td>\n",
       "      <td>36782844</td>\n",
       "    </tr>\n",
       "    <tr>\n",
       "      <td>Seven seas (open ocean)</td>\n",
       "      <td>POLYGON ((68.935 -48.625, 69.580 -48.940, 70.5...</td>\n",
       "      <td>140</td>\n",
       "    </tr>\n",
       "    <tr>\n",
       "      <td>South America</td>\n",
       "      <td>MULTIPOLYGON (((-66.960 -54.897, -67.291 -55.3...</td>\n",
       "      <td>418540749</td>\n",
       "    </tr>\n",
       "  </tbody>\n",
       "</table>\n",
       "</div>"
      ],
      "text/plain": [
       "                                                                  geometry  \\\n",
       "continent                                                                    \n",
       "Africa                   MULTIPOLYGON (((49.544 -12.470, 49.809 -12.895...   \n",
       "Antarctica               MULTIPOLYGON (((-163.713 -78.596, -163.713 -78...   \n",
       "Asia                     MULTIPOLYGON (((120.295 -10.259, 118.968 -9.55...   \n",
       "Europe                   MULTIPOLYGON (((-51.658 4.156, -52.249 3.241, ...   \n",
       "North America            MULTIPOLYGON (((-61.680 10.760, -61.105 10.890...   \n",
       "Oceania                  MULTIPOLYGON (((169.668 -43.555, 170.525 -43.0...   \n",
       "Seven seas (open ocean)  POLYGON ((68.935 -48.625, 69.580 -48.940, 70.5...   \n",
       "South America            MULTIPOLYGON (((-66.960 -54.897, -67.291 -55.3...   \n",
       "\n",
       "                            pop_est  \n",
       "continent                            \n",
       "Africa                   1219176238  \n",
       "Antarctica                     4050  \n",
       "Asia                     4389144868  \n",
       "Europe                    746398461  \n",
       "North America             573042112  \n",
       "Oceania                    36782844  \n",
       "Seven seas (open ocean)         140  \n",
       "South America             418540749  "
      ]
     },
     "execution_count": 33,
     "metadata": {},
     "output_type": "execute_result"
    }
   ],
   "source": [
    "continents"
   ]
  },
  {
   "cell_type": "markdown",
   "metadata": {},
   "source": [
    "# Fusionando datos"
   ]
  },
  {
   "cell_type": "markdown",
   "metadata": {},
   "source": [
    "[Documentación](http://geopandas.org/mergingdata.html)\n",
    "\n",
    "Existen dos maneras de combinar conjuntos de datos en geopandas. *Uniones de atributos* o *uniones espaciales*. \n",
    "\n",
    "En una unión de atributos, un `GeoSeries` o `GeoDataFrame` es combinado con un Series o DataFrame de pandas usando una variable en común. Esta operación es análoga a `pd.merge`, sin embargo si se hace usando pandas, el resultado será un DataFrame de pandas y no un `GeoDataFrame`.\n",
    "\n",
    "En una unión espacial, todas las observaciones de un `GeoSeries` o `GeoDataFrame` son combinadas con base a una relación espacial establecida entre ellas. A continuación presentamos un ejemplo de una unión espacial. Tenemos la información de las ciudades y en otro `GeoDataFrame` tenemos la información de los países. Usamos una unión espacial para fusionar ambas fuentes de datos:"
   ]
  },
  {
   "cell_type": "code",
   "execution_count": 34,
   "metadata": {},
   "outputs": [],
   "source": [
    "world = gpd.read_file(gpd.datasets.get_path('naturalearth_lowres'))\n",
    "\n",
    "cities = gpd.read_file(gpd.datasets.get_path('naturalearth_cities'))\n",
    "\n",
    "countries = world[['geometry', 'name']]\n",
    "\n",
    "countries = countries.rename(columns={'name':'country'})"
   ]
  },
  {
   "cell_type": "code",
   "execution_count": 35,
   "metadata": {},
   "outputs": [
    {
     "data": {
      "text/html": [
       "<div>\n",
       "<style scoped>\n",
       "    .dataframe tbody tr th:only-of-type {\n",
       "        vertical-align: middle;\n",
       "    }\n",
       "\n",
       "    .dataframe tbody tr th {\n",
       "        vertical-align: top;\n",
       "    }\n",
       "\n",
       "    .dataframe thead th {\n",
       "        text-align: right;\n",
       "    }\n",
       "</style>\n",
       "<table border=\"1\" class=\"dataframe\">\n",
       "  <thead>\n",
       "    <tr style=\"text-align: right;\">\n",
       "      <th></th>\n",
       "      <th>geometry</th>\n",
       "      <th>country</th>\n",
       "    </tr>\n",
       "  </thead>\n",
       "  <tbody>\n",
       "    <tr>\n",
       "      <td>0</td>\n",
       "      <td>MULTIPOLYGON (((180.00000 -16.06713, 180.00000...</td>\n",
       "      <td>Fiji</td>\n",
       "    </tr>\n",
       "    <tr>\n",
       "      <td>1</td>\n",
       "      <td>POLYGON ((33.90371 -0.95000, 34.07262 -1.05982...</td>\n",
       "      <td>Tanzania</td>\n",
       "    </tr>\n",
       "    <tr>\n",
       "      <td>2</td>\n",
       "      <td>POLYGON ((-8.66559 27.65643, -8.66512 27.58948...</td>\n",
       "      <td>W. Sahara</td>\n",
       "    </tr>\n",
       "    <tr>\n",
       "      <td>3</td>\n",
       "      <td>MULTIPOLYGON (((-122.84000 49.00000, -122.9742...</td>\n",
       "      <td>Canada</td>\n",
       "    </tr>\n",
       "    <tr>\n",
       "      <td>4</td>\n",
       "      <td>MULTIPOLYGON (((-122.84000 49.00000, -120.0000...</td>\n",
       "      <td>United States of America</td>\n",
       "    </tr>\n",
       "  </tbody>\n",
       "</table>\n",
       "</div>"
      ],
      "text/plain": [
       "                                            geometry                   country\n",
       "0  MULTIPOLYGON (((180.00000 -16.06713, 180.00000...                      Fiji\n",
       "1  POLYGON ((33.90371 -0.95000, 34.07262 -1.05982...                  Tanzania\n",
       "2  POLYGON ((-8.66559 27.65643, -8.66512 27.58948...                 W. Sahara\n",
       "3  MULTIPOLYGON (((-122.84000 49.00000, -122.9742...                    Canada\n",
       "4  MULTIPOLYGON (((-122.84000 49.00000, -120.0000...  United States of America"
      ]
     },
     "execution_count": 35,
     "metadata": {},
     "output_type": "execute_result"
    }
   ],
   "source": [
    "countries.head()"
   ]
  },
  {
   "cell_type": "code",
   "execution_count": 36,
   "metadata": {},
   "outputs": [
    {
     "data": {
      "text/html": [
       "<div>\n",
       "<style scoped>\n",
       "    .dataframe tbody tr th:only-of-type {\n",
       "        vertical-align: middle;\n",
       "    }\n",
       "\n",
       "    .dataframe tbody tr th {\n",
       "        vertical-align: top;\n",
       "    }\n",
       "\n",
       "    .dataframe thead th {\n",
       "        text-align: right;\n",
       "    }\n",
       "</style>\n",
       "<table border=\"1\" class=\"dataframe\">\n",
       "  <thead>\n",
       "    <tr style=\"text-align: right;\">\n",
       "      <th></th>\n",
       "      <th>name</th>\n",
       "      <th>geometry</th>\n",
       "    </tr>\n",
       "  </thead>\n",
       "  <tbody>\n",
       "    <tr>\n",
       "      <td>0</td>\n",
       "      <td>Vatican City</td>\n",
       "      <td>POINT (12.45339 41.90328)</td>\n",
       "    </tr>\n",
       "    <tr>\n",
       "      <td>1</td>\n",
       "      <td>San Marino</td>\n",
       "      <td>POINT (12.44177 43.93610)</td>\n",
       "    </tr>\n",
       "    <tr>\n",
       "      <td>2</td>\n",
       "      <td>Vaduz</td>\n",
       "      <td>POINT (9.51667 47.13372)</td>\n",
       "    </tr>\n",
       "    <tr>\n",
       "      <td>3</td>\n",
       "      <td>Luxembourg</td>\n",
       "      <td>POINT (6.13000 49.61166)</td>\n",
       "    </tr>\n",
       "    <tr>\n",
       "      <td>4</td>\n",
       "      <td>Palikir</td>\n",
       "      <td>POINT (158.14997 6.91664)</td>\n",
       "    </tr>\n",
       "  </tbody>\n",
       "</table>\n",
       "</div>"
      ],
      "text/plain": [
       "           name                   geometry\n",
       "0  Vatican City  POINT (12.45339 41.90328)\n",
       "1    San Marino  POINT (12.44177 43.93610)\n",
       "2         Vaduz   POINT (9.51667 47.13372)\n",
       "3    Luxembourg   POINT (6.13000 49.61166)\n",
       "4       Palikir  POINT (158.14997 6.91664)"
      ]
     },
     "execution_count": 36,
     "metadata": {},
     "output_type": "execute_result"
    }
   ],
   "source": [
    "cities.head()"
   ]
  },
  {
   "cell_type": "code",
   "execution_count": 37,
   "metadata": {},
   "outputs": [
    {
     "data": {
      "text/html": [
       "<div>\n",
       "<style scoped>\n",
       "    .dataframe tbody tr th:only-of-type {\n",
       "        vertical-align: middle;\n",
       "    }\n",
       "\n",
       "    .dataframe tbody tr th {\n",
       "        vertical-align: top;\n",
       "    }\n",
       "\n",
       "    .dataframe thead th {\n",
       "        text-align: right;\n",
       "    }\n",
       "</style>\n",
       "<table border=\"1\" class=\"dataframe\">\n",
       "  <thead>\n",
       "    <tr style=\"text-align: right;\">\n",
       "      <th></th>\n",
       "      <th>name</th>\n",
       "      <th>geometry</th>\n",
       "      <th>index_right</th>\n",
       "      <th>country</th>\n",
       "    </tr>\n",
       "  </thead>\n",
       "  <tbody>\n",
       "    <tr>\n",
       "      <td>0</td>\n",
       "      <td>Vatican City</td>\n",
       "      <td>POINT (12.45339 41.90328)</td>\n",
       "      <td>141</td>\n",
       "      <td>Italy</td>\n",
       "    </tr>\n",
       "    <tr>\n",
       "      <td>1</td>\n",
       "      <td>San Marino</td>\n",
       "      <td>POINT (12.44177 43.93610)</td>\n",
       "      <td>141</td>\n",
       "      <td>Italy</td>\n",
       "    </tr>\n",
       "    <tr>\n",
       "      <td>192</td>\n",
       "      <td>Rome</td>\n",
       "      <td>POINT (12.48131 41.89790)</td>\n",
       "      <td>141</td>\n",
       "      <td>Italy</td>\n",
       "    </tr>\n",
       "    <tr>\n",
       "      <td>2</td>\n",
       "      <td>Vaduz</td>\n",
       "      <td>POINT (9.51667 47.13372)</td>\n",
       "      <td>114</td>\n",
       "      <td>Austria</td>\n",
       "    </tr>\n",
       "    <tr>\n",
       "      <td>184</td>\n",
       "      <td>Vienna</td>\n",
       "      <td>POINT (16.36469 48.20196)</td>\n",
       "      <td>114</td>\n",
       "      <td>Austria</td>\n",
       "    </tr>\n",
       "    <tr>\n",
       "      <td>3</td>\n",
       "      <td>Luxembourg</td>\n",
       "      <td>POINT (6.13000 49.61166)</td>\n",
       "      <td>128</td>\n",
       "      <td>Luxembourg</td>\n",
       "    </tr>\n",
       "    <tr>\n",
       "      <td>8</td>\n",
       "      <td>Monaco</td>\n",
       "      <td>POINT (7.40691 43.73965)</td>\n",
       "      <td>43</td>\n",
       "      <td>France</td>\n",
       "    </tr>\n",
       "    <tr>\n",
       "      <td>11</td>\n",
       "      <td>Andorra</td>\n",
       "      <td>POINT (1.51649 42.50000)</td>\n",
       "      <td>43</td>\n",
       "      <td>France</td>\n",
       "    </tr>\n",
       "    <tr>\n",
       "      <td>199</td>\n",
       "      <td>Paris</td>\n",
       "      <td>POINT (2.33139 48.86864)</td>\n",
       "      <td>43</td>\n",
       "      <td>France</td>\n",
       "    </tr>\n",
       "    <tr>\n",
       "      <td>12</td>\n",
       "      <td>Port-of-Spain</td>\n",
       "      <td>POINT (-61.51703 10.65200)</td>\n",
       "      <td>175</td>\n",
       "      <td>Trinidad and Tobago</td>\n",
       "    </tr>\n",
       "    <tr>\n",
       "      <td>13</td>\n",
       "      <td>Kigali</td>\n",
       "      <td>POINT (30.05859 -1.95164)</td>\n",
       "      <td>169</td>\n",
       "      <td>Rwanda</td>\n",
       "    </tr>\n",
       "    <tr>\n",
       "      <td>14</td>\n",
       "      <td>Mbabane</td>\n",
       "      <td>POINT (31.13333 -26.31665)</td>\n",
       "      <td>73</td>\n",
       "      <td>eSwatini</td>\n",
       "    </tr>\n",
       "    <tr>\n",
       "      <td>15</td>\n",
       "      <td>Juba</td>\n",
       "      <td>POINT (31.58003 4.82998)</td>\n",
       "      <td>176</td>\n",
       "      <td>S. Sudan</td>\n",
       "    </tr>\n",
       "    <tr>\n",
       "      <td>16</td>\n",
       "      <td>Ljubljana</td>\n",
       "      <td>POINT (14.51497 46.05529)</td>\n",
       "      <td>150</td>\n",
       "      <td>Slovenia</td>\n",
       "    </tr>\n",
       "    <tr>\n",
       "      <td>17</td>\n",
       "      <td>Bratislava</td>\n",
       "      <td>POINT (17.11698 48.15002)</td>\n",
       "      <td>152</td>\n",
       "      <td>Slovakia</td>\n",
       "    </tr>\n",
       "    <tr>\n",
       "      <td>18</td>\n",
       "      <td>Doha</td>\n",
       "      <td>POINT (51.53297 25.28656)</td>\n",
       "      <td>85</td>\n",
       "      <td>Qatar</td>\n",
       "    </tr>\n",
       "    <tr>\n",
       "      <td>19</td>\n",
       "      <td>Podgorica</td>\n",
       "      <td>POINT (19.26631 42.46597)</td>\n",
       "      <td>173</td>\n",
       "      <td>Montenegro</td>\n",
       "    </tr>\n",
       "    <tr>\n",
       "      <td>20</td>\n",
       "      <td>Bern</td>\n",
       "      <td>POINT (7.46698 46.91668)</td>\n",
       "      <td>127</td>\n",
       "      <td>Switzerland</td>\n",
       "    </tr>\n",
       "    <tr>\n",
       "      <td>21</td>\n",
       "      <td>Pristina</td>\n",
       "      <td>POINT (21.16598 42.66671)</td>\n",
       "      <td>174</td>\n",
       "      <td>Kosovo</td>\n",
       "    </tr>\n",
       "    <tr>\n",
       "      <td>24</td>\n",
       "      <td>Banjul</td>\n",
       "      <td>POINT (-16.59170 13.45388)</td>\n",
       "      <td>80</td>\n",
       "      <td>Gambia</td>\n",
       "    </tr>\n",
       "    <tr>\n",
       "      <td>25</td>\n",
       "      <td>Skopje</td>\n",
       "      <td>POINT (21.43346 42.00001)</td>\n",
       "      <td>171</td>\n",
       "      <td>Macedonia</td>\n",
       "    </tr>\n",
       "    <tr>\n",
       "      <td>27</td>\n",
       "      <td>Bujumbura</td>\n",
       "      <td>POINT (29.36001 -3.37609)</td>\n",
       "      <td>75</td>\n",
       "      <td>Burundi</td>\n",
       "    </tr>\n",
       "    <tr>\n",
       "      <td>36</td>\n",
       "      <td>Lome</td>\n",
       "      <td>POINT (1.22081 6.13388)</td>\n",
       "      <td>58</td>\n",
       "      <td>Togo</td>\n",
       "    </tr>\n",
       "    <tr>\n",
       "      <td>37</td>\n",
       "      <td>Tunis</td>\n",
       "      <td>POINT (10.17968 36.80278)</td>\n",
       "      <td>81</td>\n",
       "      <td>Tunisia</td>\n",
       "    </tr>\n",
       "    <tr>\n",
       "      <td>38</td>\n",
       "      <td>Abu Dhabi</td>\n",
       "      <td>POINT (54.36659 24.46668)</td>\n",
       "      <td>84</td>\n",
       "      <td>United Arab Emirates</td>\n",
       "    </tr>\n",
       "    <tr>\n",
       "      <td>39</td>\n",
       "      <td>Ashgabat</td>\n",
       "      <td>POINT (58.38330 37.94999)</td>\n",
       "      <td>106</td>\n",
       "      <td>Turkmenistan</td>\n",
       "    </tr>\n",
       "    <tr>\n",
       "      <td>40</td>\n",
       "      <td>Lusaka</td>\n",
       "      <td>POINT (28.28138 -15.41470)</td>\n",
       "      <td>70</td>\n",
       "      <td>Zambia</td>\n",
       "    </tr>\n",
       "    <tr>\n",
       "      <td>41</td>\n",
       "      <td>Harare</td>\n",
       "      <td>POINT (31.04276 -17.81584)</td>\n",
       "      <td>48</td>\n",
       "      <td>Zimbabwe</td>\n",
       "    </tr>\n",
       "    <tr>\n",
       "      <td>42</td>\n",
       "      <td>Dili</td>\n",
       "      <td>POINT (125.57946 -8.55939)</td>\n",
       "      <td>24</td>\n",
       "      <td>Timor-Leste</td>\n",
       "    </tr>\n",
       "    <tr>\n",
       "      <td>44</td>\n",
       "      <td>Tegucigalpa</td>\n",
       "      <td>POINT (-87.21948 14.10399)</td>\n",
       "      <td>36</td>\n",
       "      <td>Honduras</td>\n",
       "    </tr>\n",
       "  </tbody>\n",
       "</table>\n",
       "</div>"
      ],
      "text/plain": [
       "              name                    geometry  index_right  \\\n",
       "0     Vatican City   POINT (12.45339 41.90328)          141   \n",
       "1       San Marino   POINT (12.44177 43.93610)          141   \n",
       "192           Rome   POINT (12.48131 41.89790)          141   \n",
       "2            Vaduz    POINT (9.51667 47.13372)          114   \n",
       "184         Vienna   POINT (16.36469 48.20196)          114   \n",
       "3       Luxembourg    POINT (6.13000 49.61166)          128   \n",
       "8           Monaco    POINT (7.40691 43.73965)           43   \n",
       "11         Andorra    POINT (1.51649 42.50000)           43   \n",
       "199          Paris    POINT (2.33139 48.86864)           43   \n",
       "12   Port-of-Spain  POINT (-61.51703 10.65200)          175   \n",
       "13          Kigali   POINT (30.05859 -1.95164)          169   \n",
       "14         Mbabane  POINT (31.13333 -26.31665)           73   \n",
       "15            Juba    POINT (31.58003 4.82998)          176   \n",
       "16       Ljubljana   POINT (14.51497 46.05529)          150   \n",
       "17      Bratislava   POINT (17.11698 48.15002)          152   \n",
       "18            Doha   POINT (51.53297 25.28656)           85   \n",
       "19       Podgorica   POINT (19.26631 42.46597)          173   \n",
       "20            Bern    POINT (7.46698 46.91668)          127   \n",
       "21        Pristina   POINT (21.16598 42.66671)          174   \n",
       "24          Banjul  POINT (-16.59170 13.45388)           80   \n",
       "25          Skopje   POINT (21.43346 42.00001)          171   \n",
       "27       Bujumbura   POINT (29.36001 -3.37609)           75   \n",
       "36            Lome     POINT (1.22081 6.13388)           58   \n",
       "37           Tunis   POINT (10.17968 36.80278)           81   \n",
       "38       Abu Dhabi   POINT (54.36659 24.46668)           84   \n",
       "39        Ashgabat   POINT (58.38330 37.94999)          106   \n",
       "40          Lusaka  POINT (28.28138 -15.41470)           70   \n",
       "41          Harare  POINT (31.04276 -17.81584)           48   \n",
       "42            Dili  POINT (125.57946 -8.55939)           24   \n",
       "44     Tegucigalpa  POINT (-87.21948 14.10399)           36   \n",
       "\n",
       "                  country  \n",
       "0                   Italy  \n",
       "1                   Italy  \n",
       "192                 Italy  \n",
       "2                 Austria  \n",
       "184               Austria  \n",
       "3              Luxembourg  \n",
       "8                  France  \n",
       "11                 France  \n",
       "199                France  \n",
       "12    Trinidad and Tobago  \n",
       "13                 Rwanda  \n",
       "14               eSwatini  \n",
       "15               S. Sudan  \n",
       "16               Slovenia  \n",
       "17               Slovakia  \n",
       "18                  Qatar  \n",
       "19             Montenegro  \n",
       "20            Switzerland  \n",
       "21                 Kosovo  \n",
       "24                 Gambia  \n",
       "25              Macedonia  \n",
       "27                Burundi  \n",
       "36                   Togo  \n",
       "37                Tunisia  \n",
       "38   United Arab Emirates  \n",
       "39           Turkmenistan  \n",
       "40                 Zambia  \n",
       "41               Zimbabwe  \n",
       "42            Timor-Leste  \n",
       "44               Honduras  "
      ]
     },
     "execution_count": 37,
     "metadata": {},
     "output_type": "execute_result"
    }
   ],
   "source": [
    "cities_with_country = gpd.sjoin(cities, countries, how=\"inner\", op='intersects') #sjoin spacial join\n",
    "\n",
    "cities_with_country.head(30)"
   ]
  },
  {
   "cell_type": "markdown",
   "metadata": {},
   "source": [
    "### IMPORTANTE\n",
    "\n",
    "`gpd.sjoin` soporta varias funciones de unión aparte de `intersects`. También soporta `within` y `contains`. Estas funciones se estudiaron en [Pruebas-de-relación](#Pruebas-de-relación)"
   ]
  }
 ],
 "metadata": {
  "kernelspec": {
   "display_name": "Python 3",
   "language": "python",
   "name": "python3"
  },
  "language_info": {
   "codemirror_mode": {
    "name": "ipython",
    "version": 3
   },
   "file_extension": ".py",
   "mimetype": "text/x-python",
   "name": "python",
   "nbconvert_exporter": "python",
   "pygments_lexer": "ipython3",
   "version": "3.7.4"
  }
 },
 "nbformat": 4,
 "nbformat_minor": 2
}
